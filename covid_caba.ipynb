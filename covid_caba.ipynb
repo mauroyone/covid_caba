{
 "cells": [
  {
   "cell_type": "code",
   "execution_count": 1,
   "metadata": {},
   "outputs": [],
   "source": [
    "import matplotlib.pyplot as plt"
   ]
  },
  {
   "cell_type": "code",
   "execution_count": 4,
   "metadata": {},
   "outputs": [],
   "source": [
    "import os\n",
    "CSV_NAME = 'clean_caba_cases.csv'\n",
    "CSV_PATH = os.path.join(os.getcwd(), CSV_NAME)"
   ]
  },
  {
   "cell_type": "code",
   "execution_count": 43,
   "metadata": {},
   "outputs": [],
   "source": [
    "dataset = []\n",
    "with open(CSV_PATH, 'r') as data:\n",
    "    first_line = data.readline()\n",
    "    first_line = first_line.split('\\t')\n",
    "    description = ('This dataset has two features. The first one is the {} and' + \n",
    "               ' the second are the {}'). format(first_line[0], first_line[1])\n",
    "    \n",
    "    for line in data:\n",
    "        splitted_line = line.split('\\t')\n",
    "        dataset.append([splitted_line[0], int(splitted_line[1])])\n",
    "\n",
    "total_cases = dataset.pop()[1]"
   ]
  },
  {
   "cell_type": "code",
   "execution_count": 44,
   "metadata": {},
   "outputs": [
    {
     "name": "stdout",
     "output_type": "stream",
     "text": [
      "This dataset has two features. The first one is the Date and the second are the New_Cases\n",
      "\n"
     ]
    }
   ],
   "source": [
    "print(description)"
   ]
  },
  {
   "cell_type": "code",
   "execution_count": 45,
   "metadata": {},
   "outputs": [
    {
     "data": {
      "text/plain": [
       "['7/20/2019', 1]"
      ]
     },
     "execution_count": 45,
     "metadata": {},
     "output_type": "execute_result"
    }
   ],
   "source": []
  },
  {
   "cell_type": "code",
   "execution_count": null,
   "metadata": {},
   "outputs": [],
   "source": []
  }
 ],
 "metadata": {
  "kernelspec": {
   "display_name": "Python 3",
   "language": "python",
   "name": "python3"
  },
  "language_info": {
   "codemirror_mode": {
    "name": "ipython",
    "version": 3
   },
   "file_extension": ".py",
   "mimetype": "text/x-python",
   "name": "python",
   "nbconvert_exporter": "python",
   "pygments_lexer": "ipython3",
   "version": "3.8.5"
  }
 },
 "nbformat": 4,
 "nbformat_minor": 4
}
